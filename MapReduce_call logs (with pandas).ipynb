{
 "cells": [
  {
   "cell_type": "code",
   "execution_count": 1,
   "id": "43069c4d",
   "metadata": {},
   "outputs": [
    {
     "name": "stdout",
     "output_type": "stream",
     "text": [
      "====== Reading finished =====\n",
      "====== Countind work duration finished =====\n",
      "====== Preparing the dataFrame finished =====\n",
      "====== Pivoting finished =====\n",
      "100089558362\t1898\t1086\n",
      "10076637711\t1738\t2158\n",
      "100920206415\t1751\t2630\n",
      "101997056684\t1982\t1757\n",
      "102152760909\t1915\t2769\n",
      "102304861721\t1958\t1823\n",
      "102558754326\t1748\t1634\n",
      "10258992785\t1935\t1791\n",
      "102869392076\t2281\t2672\n",
      "103045830455\t1912\t1892\n"
     ]
    }
   ],
   "source": [
    "import pandas as pd\n",
    "import numpy as np\n",
    "from datetime import datetime\n",
    "\n",
    "data = pd.read_csv('contacts_part', names = ['contact_id', 'client_id', 'employee_id','started_dttm', 'finished_dttm'\n",
    "                                        , 'business_line', 'route_type', 'initiator_id'], sep = '\\t')\n",
    "\n",
    "print(\"====== Reading finished =====\")\n",
    "\n",
    "data['started_dttm'] = pd.to_datetime(data['started_dttm'])\n",
    "data['finished_dttm'] = pd.to_datetime(data['finished_dttm'])\n",
    "data_emp = data[['employee_id', 'started_dttm', 'finished_dttm']].groupby('employee_id').agg(\n",
    "    first_date=('started_dttm', np.min),\n",
    "    last_date=('finished_dttm', np.max)).reset_index()\n",
    "data_emp['work'] = (data_emp['last_date'] - data_emp['first_date']).dt.days\n",
    "\n",
    "print(\"====== Countind work duration finished =====\")\n",
    "\n",
    "data = data[data['employee_id'].isin(data_emp[data_emp['work'] >= 180]['employee_id'].to_list())]\n",
    "data = data[(data['business_line'].str.upper() == 'CREDIT CARD') & (data['route_type'].str.upper() == 'TELEPHONY')]\n",
    "data['call'] = (data['finished_dttm'] - data['started_dttm']).dt.seconds\n",
    "data['employee_id'] = data['employee_id'].astype('string')\n",
    "data['initiator_id'] = data['initiator_id'].astype('string')\n",
    "data[\"intiator\"] = data[\"employee_id\"] == data[\"initiator_id\"]\n",
    "\n",
    "print(\"====== Preparing the dataFrame finished =====\")\n",
    "\n",
    "filnal_data = pd.pivot_table(data, values='call', index=['employee_id'],\n",
    "                 columns=['intiator'], aggfunc=np.mean).reset_index()\n",
    "\n",
    "print(\"====== Pivoting finished =====\")\n",
    "\n",
    "with open('mapreduce_abramov.tsv', 'w') as f:\n",
    "    for i in filnal_data.values.tolist()[:10]:\n",
    "        f.write(\"{0}\\t{1}\\t{2}\".format(i[0], int(i[1]), int(i[2])))\n",
    "        f.write('\\n')\n",
    "        print(\"{0}\\t{1}\\t{2}\".format(i[0], int(i[1]), int(i[2])))"
   ]
  },
  {
   "cell_type": "code",
   "execution_count": 5,
   "id": "5130c0f2",
   "metadata": {},
   "outputs": [
    {
     "ename": "KeyError",
     "evalue": "'False'",
     "output_type": "error",
     "traceback": [
      "\u001b[0;31m---------------------------------------------------------------------------\u001b[0m",
      "\u001b[0;31mKeyError\u001b[0m                                  Traceback (most recent call last)",
      "\u001b[0;32m~/opt/anaconda3/lib/python3.8/site-packages/pandas/core/indexes/base.py\u001b[0m in \u001b[0;36mget_loc\u001b[0;34m(self, key, method, tolerance)\u001b[0m\n\u001b[1;32m   3360\u001b[0m             \u001b[0;32mtry\u001b[0m\u001b[0;34m:\u001b[0m\u001b[0;34m\u001b[0m\u001b[0;34m\u001b[0m\u001b[0m\n\u001b[0;32m-> 3361\u001b[0;31m                 \u001b[0;32mreturn\u001b[0m \u001b[0mself\u001b[0m\u001b[0;34m.\u001b[0m\u001b[0m_engine\u001b[0m\u001b[0;34m.\u001b[0m\u001b[0mget_loc\u001b[0m\u001b[0;34m(\u001b[0m\u001b[0mcasted_key\u001b[0m\u001b[0;34m)\u001b[0m\u001b[0;34m\u001b[0m\u001b[0;34m\u001b[0m\u001b[0m\n\u001b[0m\u001b[1;32m   3362\u001b[0m             \u001b[0;32mexcept\u001b[0m \u001b[0mKeyError\u001b[0m \u001b[0;32mas\u001b[0m \u001b[0merr\u001b[0m\u001b[0;34m:\u001b[0m\u001b[0;34m\u001b[0m\u001b[0;34m\u001b[0m\u001b[0m\n",
      "\u001b[0;32m~/opt/anaconda3/lib/python3.8/site-packages/pandas/_libs/index.pyx\u001b[0m in \u001b[0;36mpandas._libs.index.IndexEngine.get_loc\u001b[0;34m()\u001b[0m\n",
      "\u001b[0;32m~/opt/anaconda3/lib/python3.8/site-packages/pandas/_libs/index.pyx\u001b[0m in \u001b[0;36mpandas._libs.index.IndexEngine.get_loc\u001b[0;34m()\u001b[0m\n",
      "\u001b[0;32mpandas/_libs/hashtable_class_helper.pxi\u001b[0m in \u001b[0;36mpandas._libs.hashtable.PyObjectHashTable.get_item\u001b[0;34m()\u001b[0m\n",
      "\u001b[0;32mpandas/_libs/hashtable_class_helper.pxi\u001b[0m in \u001b[0;36mpandas._libs.hashtable.PyObjectHashTable.get_item\u001b[0;34m()\u001b[0m\n",
      "\u001b[0;31mKeyError\u001b[0m: 'False'",
      "\nThe above exception was the direct cause of the following exception:\n",
      "\u001b[0;31mKeyError\u001b[0m                                  Traceback (most recent call last)",
      "\u001b[0;32m<ipython-input-5-e7f2af19a4bc>\u001b[0m in \u001b[0;36m<module>\u001b[0;34m\u001b[0m\n\u001b[0;32m----> 1\u001b[0;31m \u001b[0mfilnal_data\u001b[0m\u001b[0;34m[\u001b[0m\u001b[0;34m'False'\u001b[0m\u001b[0;34m]\u001b[0m \u001b[0;34m=\u001b[0m \u001b[0mfilnal_data\u001b[0m\u001b[0;34m[\u001b[0m\u001b[0;34m'False'\u001b[0m\u001b[0;34m]\u001b[0m\u001b[0;34m.\u001b[0m\u001b[0mastype\u001b[0m\u001b[0;34m(\u001b[0m\u001b[0;34m\"integer\"\u001b[0m\u001b[0;34m)\u001b[0m\u001b[0;34m\u001b[0m\u001b[0;34m\u001b[0m\u001b[0m\n\u001b[0m",
      "\u001b[0;32m~/opt/anaconda3/lib/python3.8/site-packages/pandas/core/frame.py\u001b[0m in \u001b[0;36m__getitem__\u001b[0;34m(self, key)\u001b[0m\n\u001b[1;32m   3456\u001b[0m             \u001b[0;32mif\u001b[0m \u001b[0mself\u001b[0m\u001b[0;34m.\u001b[0m\u001b[0mcolumns\u001b[0m\u001b[0;34m.\u001b[0m\u001b[0mnlevels\u001b[0m \u001b[0;34m>\u001b[0m \u001b[0;36m1\u001b[0m\u001b[0;34m:\u001b[0m\u001b[0;34m\u001b[0m\u001b[0;34m\u001b[0m\u001b[0m\n\u001b[1;32m   3457\u001b[0m                 \u001b[0;32mreturn\u001b[0m \u001b[0mself\u001b[0m\u001b[0;34m.\u001b[0m\u001b[0m_getitem_multilevel\u001b[0m\u001b[0;34m(\u001b[0m\u001b[0mkey\u001b[0m\u001b[0;34m)\u001b[0m\u001b[0;34m\u001b[0m\u001b[0;34m\u001b[0m\u001b[0m\n\u001b[0;32m-> 3458\u001b[0;31m             \u001b[0mindexer\u001b[0m \u001b[0;34m=\u001b[0m \u001b[0mself\u001b[0m\u001b[0;34m.\u001b[0m\u001b[0mcolumns\u001b[0m\u001b[0;34m.\u001b[0m\u001b[0mget_loc\u001b[0m\u001b[0;34m(\u001b[0m\u001b[0mkey\u001b[0m\u001b[0;34m)\u001b[0m\u001b[0;34m\u001b[0m\u001b[0;34m\u001b[0m\u001b[0m\n\u001b[0m\u001b[1;32m   3459\u001b[0m             \u001b[0;32mif\u001b[0m \u001b[0mis_integer\u001b[0m\u001b[0;34m(\u001b[0m\u001b[0mindexer\u001b[0m\u001b[0;34m)\u001b[0m\u001b[0;34m:\u001b[0m\u001b[0;34m\u001b[0m\u001b[0;34m\u001b[0m\u001b[0m\n\u001b[1;32m   3460\u001b[0m                 \u001b[0mindexer\u001b[0m \u001b[0;34m=\u001b[0m \u001b[0;34m[\u001b[0m\u001b[0mindexer\u001b[0m\u001b[0;34m]\u001b[0m\u001b[0;34m\u001b[0m\u001b[0;34m\u001b[0m\u001b[0m\n",
      "\u001b[0;32m~/opt/anaconda3/lib/python3.8/site-packages/pandas/core/indexes/base.py\u001b[0m in \u001b[0;36mget_loc\u001b[0;34m(self, key, method, tolerance)\u001b[0m\n\u001b[1;32m   3361\u001b[0m                 \u001b[0;32mreturn\u001b[0m \u001b[0mself\u001b[0m\u001b[0;34m.\u001b[0m\u001b[0m_engine\u001b[0m\u001b[0;34m.\u001b[0m\u001b[0mget_loc\u001b[0m\u001b[0;34m(\u001b[0m\u001b[0mcasted_key\u001b[0m\u001b[0;34m)\u001b[0m\u001b[0;34m\u001b[0m\u001b[0;34m\u001b[0m\u001b[0m\n\u001b[1;32m   3362\u001b[0m             \u001b[0;32mexcept\u001b[0m \u001b[0mKeyError\u001b[0m \u001b[0;32mas\u001b[0m \u001b[0merr\u001b[0m\u001b[0;34m:\u001b[0m\u001b[0;34m\u001b[0m\u001b[0;34m\u001b[0m\u001b[0m\n\u001b[0;32m-> 3363\u001b[0;31m                 \u001b[0;32mraise\u001b[0m \u001b[0mKeyError\u001b[0m\u001b[0;34m(\u001b[0m\u001b[0mkey\u001b[0m\u001b[0;34m)\u001b[0m \u001b[0;32mfrom\u001b[0m \u001b[0merr\u001b[0m\u001b[0;34m\u001b[0m\u001b[0;34m\u001b[0m\u001b[0m\n\u001b[0m\u001b[1;32m   3364\u001b[0m \u001b[0;34m\u001b[0m\u001b[0m\n\u001b[1;32m   3365\u001b[0m         \u001b[0;32mif\u001b[0m \u001b[0mis_scalar\u001b[0m\u001b[0;34m(\u001b[0m\u001b[0mkey\u001b[0m\u001b[0;34m)\u001b[0m \u001b[0;32mand\u001b[0m \u001b[0misna\u001b[0m\u001b[0;34m(\u001b[0m\u001b[0mkey\u001b[0m\u001b[0;34m)\u001b[0m \u001b[0;32mand\u001b[0m \u001b[0;32mnot\u001b[0m \u001b[0mself\u001b[0m\u001b[0;34m.\u001b[0m\u001b[0mhasnans\u001b[0m\u001b[0;34m:\u001b[0m\u001b[0;34m\u001b[0m\u001b[0;34m\u001b[0m\u001b[0m\n",
      "\u001b[0;31mKeyError\u001b[0m: 'False'"
     ]
    }
   ],
   "source": [
    "filnal_data['False'] = filnal_data['False'].astype(\"integer\")"
   ]
  },
  {
   "cell_type": "code",
   "execution_count": 26,
   "id": "9838d681",
   "metadata": {},
   "outputs": [
    {
     "data": {
      "text/html": [
       "<div>\n",
       "<style scoped>\n",
       "    .dataframe tbody tr th:only-of-type {\n",
       "        vertical-align: middle;\n",
       "    }\n",
       "\n",
       "    .dataframe tbody tr th {\n",
       "        vertical-align: top;\n",
       "    }\n",
       "\n",
       "    .dataframe thead th {\n",
       "        text-align: right;\n",
       "    }\n",
       "</style>\n",
       "<table border=\"1\" class=\"dataframe\">\n",
       "  <thead>\n",
       "    <tr style=\"text-align: right;\">\n",
       "      <th>intiator</th>\n",
       "      <th>employee_id</th>\n",
       "      <th>False</th>\n",
       "      <th>True</th>\n",
       "    </tr>\n",
       "  </thead>\n",
       "  <tbody>\n",
       "    <tr>\n",
       "      <th>0</th>\n",
       "      <td>100089558362</td>\n",
       "      <td>1898.272727</td>\n",
       "      <td>1086.000000</td>\n",
       "    </tr>\n",
       "    <tr>\n",
       "      <th>1</th>\n",
       "      <td>10076637711</td>\n",
       "      <td>1738.682540</td>\n",
       "      <td>2158.428571</td>\n",
       "    </tr>\n",
       "    <tr>\n",
       "      <th>2</th>\n",
       "      <td>100920206415</td>\n",
       "      <td>1751.133333</td>\n",
       "      <td>2630.333333</td>\n",
       "    </tr>\n",
       "    <tr>\n",
       "      <th>3</th>\n",
       "      <td>101997056684</td>\n",
       "      <td>1982.696970</td>\n",
       "      <td>1757.333333</td>\n",
       "    </tr>\n",
       "    <tr>\n",
       "      <th>4</th>\n",
       "      <td>102152760909</td>\n",
       "      <td>1915.852941</td>\n",
       "      <td>2769.200000</td>\n",
       "    </tr>\n",
       "    <tr>\n",
       "      <th>...</th>\n",
       "      <td>...</td>\n",
       "      <td>...</td>\n",
       "      <td>...</td>\n",
       "    </tr>\n",
       "    <tr>\n",
       "      <th>2022</th>\n",
       "      <td>996118331930</td>\n",
       "      <td>1974.090909</td>\n",
       "      <td>1561.500000</td>\n",
       "    </tr>\n",
       "    <tr>\n",
       "      <th>2023</th>\n",
       "      <td>998669570651</td>\n",
       "      <td>1835.898876</td>\n",
       "      <td>1745.666667</td>\n",
       "    </tr>\n",
       "    <tr>\n",
       "      <th>2024</th>\n",
       "      <td>999029788377</td>\n",
       "      <td>1748.888889</td>\n",
       "      <td>1702.636364</td>\n",
       "    </tr>\n",
       "    <tr>\n",
       "      <th>2025</th>\n",
       "      <td>999438333915</td>\n",
       "      <td>1979.447059</td>\n",
       "      <td>2156.894737</td>\n",
       "    </tr>\n",
       "    <tr>\n",
       "      <th>2026</th>\n",
       "      <td>99950274302</td>\n",
       "      <td>1603.833333</td>\n",
       "      <td>2270.500000</td>\n",
       "    </tr>\n",
       "  </tbody>\n",
       "</table>\n",
       "<p>2027 rows × 3 columns</p>\n",
       "</div>"
      ],
      "text/plain": [
       "intiator   employee_id        False         True\n",
       "0         100089558362  1898.272727  1086.000000\n",
       "1          10076637711  1738.682540  2158.428571\n",
       "2         100920206415  1751.133333  2630.333333\n",
       "3         101997056684  1982.696970  1757.333333\n",
       "4         102152760909  1915.852941  2769.200000\n",
       "...                ...          ...          ...\n",
       "2022      996118331930  1974.090909  1561.500000\n",
       "2023      998669570651  1835.898876  1745.666667\n",
       "2024      999029788377  1748.888889  1702.636364\n",
       "2025      999438333915  1979.447059  2156.894737\n",
       "2026       99950274302  1603.833333  2270.500000\n",
       "\n",
       "[2027 rows x 3 columns]"
      ]
     },
     "execution_count": 26,
     "metadata": {},
     "output_type": "execute_result"
    }
   ],
   "source": [
    "filnal_data"
   ]
  },
  {
   "cell_type": "code",
   "execution_count": 25,
   "id": "eaeaaf6f",
   "metadata": {},
   "outputs": [
    {
     "data": {
      "text/plain": [
       "Index(['employee_id', False, True], dtype='object', name='intiator')"
      ]
     },
     "execution_count": 25,
     "metadata": {},
     "output_type": "execute_result"
    }
   ],
   "source": [
    "filnal_data.columns"
   ]
  },
  {
   "cell_type": "code",
   "execution_count": 43,
   "id": "eefc32e0",
   "metadata": {},
   "outputs": [],
   "source": [
    "lst = []\n",
    "with open('compare_result.txt', 'r') as f:\n",
    "    for line in f.readlines():\n",
    "        _l = line.split('\\t')\n",
    "        lst.append([_l[0], int(_l[1]), int(_l[2].strip())])"
   ]
  },
  {
   "cell_type": "code",
   "execution_count": 44,
   "id": "3ac3c489",
   "metadata": {},
   "outputs": [
    {
     "data": {
      "text/plain": [
       "[['100089558362', 1898, 1086],\n",
       " ['10076637711', 1738, 2158],\n",
       " ['100920206415', 1751, 2630],\n",
       " ['101997056684', 1982, 1757],\n",
       " ['102152760909', 1915, 2769],\n",
       " ['102304861721', 1958, 1823],\n",
       " ['102558754326', 1748, 1634],\n",
       " ['10258992785', 1935, 1791],\n",
       " ['102869392076', 2281, 2672],\n",
       " ['103045830455', 1912, 1892]]"
      ]
     },
     "execution_count": 44,
     "metadata": {},
     "output_type": "execute_result"
    }
   ],
   "source": [
    "lst"
   ]
  },
  {
   "cell_type": "code",
   "execution_count": null,
   "id": "fd6abcec",
   "metadata": {},
   "outputs": [],
   "source": []
  }
 ],
 "metadata": {
  "kernelspec": {
   "display_name": "Python 3",
   "language": "python",
   "name": "python3"
  },
  "language_info": {
   "codemirror_mode": {
    "name": "ipython",
    "version": 3
   },
   "file_extension": ".py",
   "mimetype": "text/x-python",
   "name": "python",
   "nbconvert_exporter": "python",
   "pygments_lexer": "ipython3",
   "version": "3.8.2"
  }
 },
 "nbformat": 4,
 "nbformat_minor": 5
}
