{
 "cells": [
  {
   "cell_type": "code",
   "execution_count": 87,
   "id": "98599b62",
   "metadata": {},
   "outputs": [
    {
     "name": "stdout",
     "output_type": "stream",
     "text": [
      "====== Reading finished =====\n",
      "====== Preparing the dataFrame finished =====\n",
      "j.n.smith\t51620\n",
      "b.yearwood\t42356\n",
      "l.kistner\t38205\n",
      "u.orellano\t37268\n",
      "r.applegarth\t35577\n",
      "l.busk\t34639\n",
      "z.lee\t33448\n",
      "a.anderson\t33441\n",
      "r.lowe\t33214\n",
      "s.i.lee\t32678\n"
     ]
    }
   ],
   "source": [
    "# You have to find the top-10 managers whose subordinates \n",
    "# processed the most total number of incoming requests lasting at least five minutes.\n",
    "\n",
    "import pandas as pd\n",
    "import numpy as np\n",
    "from datetime import datetime\n",
    "\n",
    "logs = pd.read_csv('contacts', names = ['contact_id', 'client_id', 'employee_id','started_dttm', 'finished_dttm'\n",
    "                                        , 'business_line', 'route_type', 'initiator_id'], sep = '\\t')\n",
    "\n",
    "\n",
    "emploeeys = pd.read_csv('employees', names = ['employee_id', 'manager_id', 'login'], sep = '\\t')\n",
    "\n",
    "print(\"====== Reading finished =====\")\n",
    "\n",
    "logs['started_dttm'] = pd.to_datetime(logs['started_dttm'])\n",
    "logs['finished_dttm'] = pd.to_datetime(logs['finished_dttm'])\n",
    "logs['call'] = (logs['finished_dttm'] - logs['started_dttm']).dt.seconds\n",
    "logs['in_out'] = logs[\"employee_id\"] == logs[\"initiator_id\"]\n",
    "logs['in_out'] = logs['in_out'].apply(lambda x: 'outcome' if x is True else 'income')\n",
    "logs_filtered = logs[(logs['call'] >= 300)&(logs['in_out'] == 'income')]\n",
    "\n",
    "print(\"====== Preparing the dataFrame finished =====\")\n",
    "\n",
    "e = pd.merge(emploeeys, \n",
    "                  emploeeys,\n",
    "                  left_on='manager_id',\n",
    "                  right_on='employee_id',\n",
    "                  how='inner')\n",
    "\n",
    "employees_modified = e[['employee_id_x', 'manager_id_y', 'login_y']]\n",
    "employees_modified = employees_modified.rename(columns={\"employee_id_x\": \"employee_id\", \"manager_id_y\": \"manager_id\", \"login_y\":\"login\"})\n",
    "\n",
    "logs_filtered_managers = logs_filtered.merge(employees_modified, on='employee_id', how='inner')\n",
    "\n",
    "with open('mapreduce_abramov_2.tsv', 'w') as f:\n",
    "    for i in logs_filtered_managers.groupby('login')['call'].count().sort_values(ascending=False).reset_index().values.tolist()[:10]:\n",
    "            f.write(\"{0}\\t{1}\".format(i[0], int(i[1])))\n",
    "            f.write('\\n')\n",
    "            print(\"{0}\\t{1}\".format(i[0], int(i[1])))"
   ]
  },
  {
   "cell_type": "code",
   "execution_count": null,
   "id": "da84e4c1",
   "metadata": {},
   "outputs": [],
   "source": []
  }
 ],
 "metadata": {
  "kernelspec": {
   "display_name": "Python 3",
   "language": "python",
   "name": "python3"
  },
  "language_info": {
   "codemirror_mode": {
    "name": "ipython",
    "version": 3
   },
   "file_extension": ".py",
   "mimetype": "text/x-python",
   "name": "python",
   "nbconvert_exporter": "python",
   "pygments_lexer": "ipython3",
   "version": "3.8.2"
  }
 },
 "nbformat": 4,
 "nbformat_minor": 5
}
